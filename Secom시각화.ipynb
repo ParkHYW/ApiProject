{
  "cells": [
    {
      "cell_type": "markdown",
      "metadata": {
        "id": "view-in-github",
        "colab_type": "text"
      },
      "source": [
        "<a href=\"https://colab.research.google.com/github/ParkHYW/ApiProject/blob/main/Secom%EC%8B%9C%EA%B0%81%ED%99%94.ipynb\" target=\"_parent\"><img src=\"https://colab.research.google.com/assets/colab-badge.svg\" alt=\"Open In Colab\"/></a>"
      ]
    },
    {
      "cell_type": "code",
      "execution_count": 65,
      "metadata": {
        "id": "cnUx-Cg1-gE8"
      },
      "outputs": [],
      "source": [
        "# for basic operations\n",
        "import numpy as np \n",
        "import pandas as pd \n",
        "\n",
        "# for visualizations\n",
        "import matplotlib.pyplot as plt\n",
        "import seaborn as sns\n",
        "plt.style.use('fivethirtyeight')\n",
        "\n",
        "# to avoid warnings\n",
        "import warnings\n",
        "warnings.filterwarnings(\"ignore\", category=DeprecationWarning)"
      ]
    },
    {
      "cell_type": "code",
      "execution_count": 67,
      "metadata": {
        "id": "uQkAz-BQ-78f"
      },
      "outputs": [],
      "source": [
        ""
      ]
    },
    {
      "cell_type": "code",
      "source": [
        "import os\n",
        "path = os.getcwd()\n",
        "print(path)"
      ],
      "metadata": {
        "colab": {
          "base_uri": "https://localhost:8080/"
        },
        "id": "BX6j8tzxpzJx",
        "outputId": "24fe3b1c-b473-4f84-9c33-703735cf0d8b"
      },
      "execution_count": 68,
      "outputs": [
        {
          "output_type": "stream",
          "name": "stdout",
          "text": [
            "/content\n"
          ]
        }
      ]
    },
    {
      "cell_type": "code",
      "execution_count": 69,
      "metadata": {
        "id": "N-G_HbE8_MzC"
      },
      "outputs": [],
      "source": [
        "data = pd.read_csv('uci-secom.csv')"
      ]
    },
    {
      "cell_type": "code",
      "execution_count": 70,
      "metadata": {
        "id": "PBeEV4NG_ntT"
      },
      "outputs": [],
      "source": [
        "data = data.rename({\"Pass/Fail\":'Pass_Fail'},axis=1)"
      ]
    },
    {
      "cell_type": "markdown",
      "metadata": {
        "id": "yTunvc9WAKvl"
      },
      "source": [
        "### Data Cleaning"
      ]
    },
    {
      "cell_type": "code",
      "execution_count": 71,
      "metadata": {
        "id": "NnpP7Q9J_pmD",
        "colab": {
          "base_uri": "https://localhost:8080/",
          "height": 568
        },
        "outputId": "6e7bb4ee-7cc5-43e8-a51d-335b64a89784"
      },
      "outputs": [
        {
          "output_type": "stream",
          "name": "stdout",
          "text": [
            "Data shape: (1567, 592)\n",
            "___________________________\n",
            "Data Types:\n",
            "float64    590\n",
            "int64        1\n",
            "object       1\n",
            "Name: Types, dtype: int64\n",
            "___________________________\n"
          ]
        },
        {
          "output_type": "display_data",
          "data": {
            "text/plain": [
              "        Types  Counts  Uniques  Nulls                  Min  \\\n",
              "292   float64     138       93   1429               0.0041   \n",
              "158   float64     138      139   1429             234.0996   \n",
              "157   float64     138      129   1429               0.0118   \n",
              "293   float64     138      139   1429              82.3233   \n",
              "358   float64     226       21   1341               0.0017   \n",
              "...       ...     ...      ...    ...                  ...   \n",
              "429   float64    1567     1542      0               0.7837   \n",
              "250   float64    1567     1566      0              21.0107   \n",
              "251   float64    1567      143      0               0.0003   \n",
              "252   float64    1567     1533      0               0.7673   \n",
              "Time   object    1567     1534      0  2008-01-08 02:02:00   \n",
              "\n",
              "                      Max  \n",
              "292                0.0831  \n",
              "158             2505.2998  \n",
              "157                0.2876  \n",
              "293               879.226  \n",
              "358                0.0047  \n",
              "...                   ...  \n",
              "429              186.6164  \n",
              "250             1119.7042  \n",
              "251                0.9909  \n",
              "252             2549.9885  \n",
              "Time  2008-12-10 18:47:00  \n",
              "\n",
              "[592 rows x 6 columns]"
            ],
            "text/html": [
              "\n",
              "  <div id=\"df-9afcd416-34c0-44ee-96e7-4f20452bce0c\">\n",
              "    <div class=\"colab-df-container\">\n",
              "      <div>\n",
              "<style scoped>\n",
              "    .dataframe tbody tr th:only-of-type {\n",
              "        vertical-align: middle;\n",
              "    }\n",
              "\n",
              "    .dataframe tbody tr th {\n",
              "        vertical-align: top;\n",
              "    }\n",
              "\n",
              "    .dataframe thead th {\n",
              "        text-align: right;\n",
              "    }\n",
              "</style>\n",
              "<table border=\"1\" class=\"dataframe\">\n",
              "  <thead>\n",
              "    <tr style=\"text-align: right;\">\n",
              "      <th></th>\n",
              "      <th>Types</th>\n",
              "      <th>Counts</th>\n",
              "      <th>Uniques</th>\n",
              "      <th>Nulls</th>\n",
              "      <th>Min</th>\n",
              "      <th>Max</th>\n",
              "    </tr>\n",
              "  </thead>\n",
              "  <tbody>\n",
              "    <tr>\n",
              "      <th>292</th>\n",
              "      <td>float64</td>\n",
              "      <td>138</td>\n",
              "      <td>93</td>\n",
              "      <td>1429</td>\n",
              "      <td>0.0041</td>\n",
              "      <td>0.0831</td>\n",
              "    </tr>\n",
              "    <tr>\n",
              "      <th>158</th>\n",
              "      <td>float64</td>\n",
              "      <td>138</td>\n",
              "      <td>139</td>\n",
              "      <td>1429</td>\n",
              "      <td>234.0996</td>\n",
              "      <td>2505.2998</td>\n",
              "    </tr>\n",
              "    <tr>\n",
              "      <th>157</th>\n",
              "      <td>float64</td>\n",
              "      <td>138</td>\n",
              "      <td>129</td>\n",
              "      <td>1429</td>\n",
              "      <td>0.0118</td>\n",
              "      <td>0.2876</td>\n",
              "    </tr>\n",
              "    <tr>\n",
              "      <th>293</th>\n",
              "      <td>float64</td>\n",
              "      <td>138</td>\n",
              "      <td>139</td>\n",
              "      <td>1429</td>\n",
              "      <td>82.3233</td>\n",
              "      <td>879.226</td>\n",
              "    </tr>\n",
              "    <tr>\n",
              "      <th>358</th>\n",
              "      <td>float64</td>\n",
              "      <td>226</td>\n",
              "      <td>21</td>\n",
              "      <td>1341</td>\n",
              "      <td>0.0017</td>\n",
              "      <td>0.0047</td>\n",
              "    </tr>\n",
              "    <tr>\n",
              "      <th>...</th>\n",
              "      <td>...</td>\n",
              "      <td>...</td>\n",
              "      <td>...</td>\n",
              "      <td>...</td>\n",
              "      <td>...</td>\n",
              "      <td>...</td>\n",
              "    </tr>\n",
              "    <tr>\n",
              "      <th>429</th>\n",
              "      <td>float64</td>\n",
              "      <td>1567</td>\n",
              "      <td>1542</td>\n",
              "      <td>0</td>\n",
              "      <td>0.7837</td>\n",
              "      <td>186.6164</td>\n",
              "    </tr>\n",
              "    <tr>\n",
              "      <th>250</th>\n",
              "      <td>float64</td>\n",
              "      <td>1567</td>\n",
              "      <td>1566</td>\n",
              "      <td>0</td>\n",
              "      <td>21.0107</td>\n",
              "      <td>1119.7042</td>\n",
              "    </tr>\n",
              "    <tr>\n",
              "      <th>251</th>\n",
              "      <td>float64</td>\n",
              "      <td>1567</td>\n",
              "      <td>143</td>\n",
              "      <td>0</td>\n",
              "      <td>0.0003</td>\n",
              "      <td>0.9909</td>\n",
              "    </tr>\n",
              "    <tr>\n",
              "      <th>252</th>\n",
              "      <td>float64</td>\n",
              "      <td>1567</td>\n",
              "      <td>1533</td>\n",
              "      <td>0</td>\n",
              "      <td>0.7673</td>\n",
              "      <td>2549.9885</td>\n",
              "    </tr>\n",
              "    <tr>\n",
              "      <th>Time</th>\n",
              "      <td>object</td>\n",
              "      <td>1567</td>\n",
              "      <td>1534</td>\n",
              "      <td>0</td>\n",
              "      <td>2008-01-08 02:02:00</td>\n",
              "      <td>2008-12-10 18:47:00</td>\n",
              "    </tr>\n",
              "  </tbody>\n",
              "</table>\n",
              "<p>592 rows × 6 columns</p>\n",
              "</div>\n",
              "      <button class=\"colab-df-convert\" onclick=\"convertToInteractive('df-9afcd416-34c0-44ee-96e7-4f20452bce0c')\"\n",
              "              title=\"Convert this dataframe to an interactive table.\"\n",
              "              style=\"display:none;\">\n",
              "        \n",
              "  <svg xmlns=\"http://www.w3.org/2000/svg\" height=\"24px\"viewBox=\"0 0 24 24\"\n",
              "       width=\"24px\">\n",
              "    <path d=\"M0 0h24v24H0V0z\" fill=\"none\"/>\n",
              "    <path d=\"M18.56 5.44l.94 2.06.94-2.06 2.06-.94-2.06-.94-.94-2.06-.94 2.06-2.06.94zm-11 1L8.5 8.5l.94-2.06 2.06-.94-2.06-.94L8.5 2.5l-.94 2.06-2.06.94zm10 10l.94 2.06.94-2.06 2.06-.94-2.06-.94-.94-2.06-.94 2.06-2.06.94z\"/><path d=\"M17.41 7.96l-1.37-1.37c-.4-.4-.92-.59-1.43-.59-.52 0-1.04.2-1.43.59L10.3 9.45l-7.72 7.72c-.78.78-.78 2.05 0 2.83L4 21.41c.39.39.9.59 1.41.59.51 0 1.02-.2 1.41-.59l7.78-7.78 2.81-2.81c.8-.78.8-2.07 0-2.86zM5.41 20L4 18.59l7.72-7.72 1.47 1.35L5.41 20z\"/>\n",
              "  </svg>\n",
              "      </button>\n",
              "      \n",
              "  <style>\n",
              "    .colab-df-container {\n",
              "      display:flex;\n",
              "      flex-wrap:wrap;\n",
              "      gap: 12px;\n",
              "    }\n",
              "\n",
              "    .colab-df-convert {\n",
              "      background-color: #E8F0FE;\n",
              "      border: none;\n",
              "      border-radius: 50%;\n",
              "      cursor: pointer;\n",
              "      display: none;\n",
              "      fill: #1967D2;\n",
              "      height: 32px;\n",
              "      padding: 0 0 0 0;\n",
              "      width: 32px;\n",
              "    }\n",
              "\n",
              "    .colab-df-convert:hover {\n",
              "      background-color: #E2EBFA;\n",
              "      box-shadow: 0px 1px 2px rgba(60, 64, 67, 0.3), 0px 1px 3px 1px rgba(60, 64, 67, 0.15);\n",
              "      fill: #174EA6;\n",
              "    }\n",
              "\n",
              "    [theme=dark] .colab-df-convert {\n",
              "      background-color: #3B4455;\n",
              "      fill: #D2E3FC;\n",
              "    }\n",
              "\n",
              "    [theme=dark] .colab-df-convert:hover {\n",
              "      background-color: #434B5C;\n",
              "      box-shadow: 0px 1px 3px 1px rgba(0, 0, 0, 0.15);\n",
              "      filter: drop-shadow(0px 1px 2px rgba(0, 0, 0, 0.3));\n",
              "      fill: #FFFFFF;\n",
              "    }\n",
              "  </style>\n",
              "\n",
              "      <script>\n",
              "        const buttonEl =\n",
              "          document.querySelector('#df-9afcd416-34c0-44ee-96e7-4f20452bce0c button.colab-df-convert');\n",
              "        buttonEl.style.display =\n",
              "          google.colab.kernel.accessAllowed ? 'block' : 'none';\n",
              "\n",
              "        async function convertToInteractive(key) {\n",
              "          const element = document.querySelector('#df-9afcd416-34c0-44ee-96e7-4f20452bce0c');\n",
              "          const dataTable =\n",
              "            await google.colab.kernel.invokeFunction('convertToInteractive',\n",
              "                                                     [key], {});\n",
              "          if (!dataTable) return;\n",
              "\n",
              "          const docLinkHtml = 'Like what you see? Visit the ' +\n",
              "            '<a target=\"_blank\" href=https://colab.research.google.com/notebooks/data_table.ipynb>data table notebook</a>'\n",
              "            + ' to learn more about interactive tables.';\n",
              "          element.innerHTML = '';\n",
              "          dataTable['output_type'] = 'display_data';\n",
              "          await google.colab.output.renderOutput(dataTable, element);\n",
              "          const docLink = document.createElement('div');\n",
              "          docLink.innerHTML = docLinkHtml;\n",
              "          element.appendChild(docLink);\n",
              "        }\n",
              "      </script>\n",
              "    </div>\n",
              "  </div>\n",
              "  "
            ]
          },
          "metadata": {}
        }
      ],
      "source": [
        "def summary(df, pred=None):\n",
        "    obs = df.shape[0]\n",
        "    Types = df.dtypes\n",
        "    Counts = df.apply(lambda x: x.count())\n",
        "    Min = df.min()\n",
        "    Max = df.max()\n",
        "    Uniques = df.apply(lambda x: x.unique().shape[0])\n",
        "    Nulls = df.apply(lambda x: x.isnull().sum())\n",
        "    print('Data shape:', df.shape)\n",
        "\n",
        "    if pred is None:\n",
        "        cols = ['Types', 'Counts', 'Uniques', 'Nulls', 'Min', 'Max']\n",
        "        str = pd.concat([Types, Counts, Uniques, Nulls, Min, Max], axis = 1, sort=True)\n",
        "\n",
        "    str.columns = cols\n",
        "    print('___________________________\\nData Types:')\n",
        "    print(str.Types.value_counts())\n",
        "    print('___________________________')\n",
        "    return str\n",
        "\n",
        "display(summary(data).sort_values(by='Nulls', ascending=False))"
      ]
    },
    {
      "cell_type": "markdown",
      "metadata": {
        "id": "EEGvvvNbBWQH"
      },
      "source": [
        "# Time 삭제 \n"
      ]
    },
    {
      "cell_type": "code",
      "execution_count": null,
      "metadata": {
        "id": "OQWGTw6jBULI"
      },
      "outputs": [],
      "source": [
        ""
      ]
    },
    {
      "cell_type": "markdown",
      "metadata": {
        "id": "geNNkl1gB_RF"
      },
      "source": [
        "## Missing Values:결측치 처리\n",
        "## 결측치가 50% 이상인 columns 삭제"
      ]
    },
    {
      "cell_type": "code",
      "execution_count": 72,
      "metadata": {
        "id": "ctUFuLZRCESq"
      },
      "outputs": [],
      "source": [
        "def null_values(df):\n",
        "    \"\"\"a function to show null values with percentage\"\"\"\n",
        "    nv=pd.concat([df.isnull().sum(), 100 * df.isnull().sum()/df.shape[0]],axis=1).rename(columns={0:'Missing_Records', 1:'Percentage (%)'})\n",
        "    return nv[nv.Missing_Records>0].sort_values('Missing_Records', ascending=False)"
      ]
    },
    {
      "cell_type": "code",
      "execution_count": 76,
      "metadata": {
        "id": "eFyWiRSnCHAD",
        "colab": {
          "base_uri": "https://localhost:8080/",
          "height": 424
        },
        "outputId": "87fecd83-eb35-4347-99ed-e8a5babb8d54"
      },
      "outputs": [
        {
          "output_type": "execute_result",
          "data": {
            "text/plain": [
              "     Missing_Records  Percentage (%)\n",
              "292             1429       91.193363\n",
              "293             1429       91.193363\n",
              "157             1429       91.193363\n",
              "158             1429       91.193363\n",
              "358             1341       85.577537\n",
              "..               ...             ...\n",
              "456                1        0.063816\n",
              "218                1        0.063816\n",
              "356                1        0.063816\n",
              "457                1        0.063816\n",
              "589                1        0.063816\n",
              "\n",
              "[538 rows x 2 columns]"
            ],
            "text/html": [
              "\n",
              "  <div id=\"df-a8d44c0b-d8ea-4b4f-a065-5f28c8d676fc\">\n",
              "    <div class=\"colab-df-container\">\n",
              "      <div>\n",
              "<style scoped>\n",
              "    .dataframe tbody tr th:only-of-type {\n",
              "        vertical-align: middle;\n",
              "    }\n",
              "\n",
              "    .dataframe tbody tr th {\n",
              "        vertical-align: top;\n",
              "    }\n",
              "\n",
              "    .dataframe thead th {\n",
              "        text-align: right;\n",
              "    }\n",
              "</style>\n",
              "<table border=\"1\" class=\"dataframe\">\n",
              "  <thead>\n",
              "    <tr style=\"text-align: right;\">\n",
              "      <th></th>\n",
              "      <th>Missing_Records</th>\n",
              "      <th>Percentage (%)</th>\n",
              "    </tr>\n",
              "  </thead>\n",
              "  <tbody>\n",
              "    <tr>\n",
              "      <th>292</th>\n",
              "      <td>1429</td>\n",
              "      <td>91.193363</td>\n",
              "    </tr>\n",
              "    <tr>\n",
              "      <th>293</th>\n",
              "      <td>1429</td>\n",
              "      <td>91.193363</td>\n",
              "    </tr>\n",
              "    <tr>\n",
              "      <th>157</th>\n",
              "      <td>1429</td>\n",
              "      <td>91.193363</td>\n",
              "    </tr>\n",
              "    <tr>\n",
              "      <th>158</th>\n",
              "      <td>1429</td>\n",
              "      <td>91.193363</td>\n",
              "    </tr>\n",
              "    <tr>\n",
              "      <th>358</th>\n",
              "      <td>1341</td>\n",
              "      <td>85.577537</td>\n",
              "    </tr>\n",
              "    <tr>\n",
              "      <th>...</th>\n",
              "      <td>...</td>\n",
              "      <td>...</td>\n",
              "    </tr>\n",
              "    <tr>\n",
              "      <th>456</th>\n",
              "      <td>1</td>\n",
              "      <td>0.063816</td>\n",
              "    </tr>\n",
              "    <tr>\n",
              "      <th>218</th>\n",
              "      <td>1</td>\n",
              "      <td>0.063816</td>\n",
              "    </tr>\n",
              "    <tr>\n",
              "      <th>356</th>\n",
              "      <td>1</td>\n",
              "      <td>0.063816</td>\n",
              "    </tr>\n",
              "    <tr>\n",
              "      <th>457</th>\n",
              "      <td>1</td>\n",
              "      <td>0.063816</td>\n",
              "    </tr>\n",
              "    <tr>\n",
              "      <th>589</th>\n",
              "      <td>1</td>\n",
              "      <td>0.063816</td>\n",
              "    </tr>\n",
              "  </tbody>\n",
              "</table>\n",
              "<p>538 rows × 2 columns</p>\n",
              "</div>\n",
              "      <button class=\"colab-df-convert\" onclick=\"convertToInteractive('df-a8d44c0b-d8ea-4b4f-a065-5f28c8d676fc')\"\n",
              "              title=\"Convert this dataframe to an interactive table.\"\n",
              "              style=\"display:none;\">\n",
              "        \n",
              "  <svg xmlns=\"http://www.w3.org/2000/svg\" height=\"24px\"viewBox=\"0 0 24 24\"\n",
              "       width=\"24px\">\n",
              "    <path d=\"M0 0h24v24H0V0z\" fill=\"none\"/>\n",
              "    <path d=\"M18.56 5.44l.94 2.06.94-2.06 2.06-.94-2.06-.94-.94-2.06-.94 2.06-2.06.94zm-11 1L8.5 8.5l.94-2.06 2.06-.94-2.06-.94L8.5 2.5l-.94 2.06-2.06.94zm10 10l.94 2.06.94-2.06 2.06-.94-2.06-.94-.94-2.06-.94 2.06-2.06.94z\"/><path d=\"M17.41 7.96l-1.37-1.37c-.4-.4-.92-.59-1.43-.59-.52 0-1.04.2-1.43.59L10.3 9.45l-7.72 7.72c-.78.78-.78 2.05 0 2.83L4 21.41c.39.39.9.59 1.41.59.51 0 1.02-.2 1.41-.59l7.78-7.78 2.81-2.81c.8-.78.8-2.07 0-2.86zM5.41 20L4 18.59l7.72-7.72 1.47 1.35L5.41 20z\"/>\n",
              "  </svg>\n",
              "      </button>\n",
              "      \n",
              "  <style>\n",
              "    .colab-df-container {\n",
              "      display:flex;\n",
              "      flex-wrap:wrap;\n",
              "      gap: 12px;\n",
              "    }\n",
              "\n",
              "    .colab-df-convert {\n",
              "      background-color: #E8F0FE;\n",
              "      border: none;\n",
              "      border-radius: 50%;\n",
              "      cursor: pointer;\n",
              "      display: none;\n",
              "      fill: #1967D2;\n",
              "      height: 32px;\n",
              "      padding: 0 0 0 0;\n",
              "      width: 32px;\n",
              "    }\n",
              "\n",
              "    .colab-df-convert:hover {\n",
              "      background-color: #E2EBFA;\n",
              "      box-shadow: 0px 1px 2px rgba(60, 64, 67, 0.3), 0px 1px 3px 1px rgba(60, 64, 67, 0.15);\n",
              "      fill: #174EA6;\n",
              "    }\n",
              "\n",
              "    [theme=dark] .colab-df-convert {\n",
              "      background-color: #3B4455;\n",
              "      fill: #D2E3FC;\n",
              "    }\n",
              "\n",
              "    [theme=dark] .colab-df-convert:hover {\n",
              "      background-color: #434B5C;\n",
              "      box-shadow: 0px 1px 3px 1px rgba(0, 0, 0, 0.15);\n",
              "      filter: drop-shadow(0px 1px 2px rgba(0, 0, 0, 0.3));\n",
              "      fill: #FFFFFF;\n",
              "    }\n",
              "  </style>\n",
              "\n",
              "      <script>\n",
              "        const buttonEl =\n",
              "          document.querySelector('#df-a8d44c0b-d8ea-4b4f-a065-5f28c8d676fc button.colab-df-convert');\n",
              "        buttonEl.style.display =\n",
              "          google.colab.kernel.accessAllowed ? 'block' : 'none';\n",
              "\n",
              "        async function convertToInteractive(key) {\n",
              "          const element = document.querySelector('#df-a8d44c0b-d8ea-4b4f-a065-5f28c8d676fc');\n",
              "          const dataTable =\n",
              "            await google.colab.kernel.invokeFunction('convertToInteractive',\n",
              "                                                     [key], {});\n",
              "          if (!dataTable) return;\n",
              "\n",
              "          const docLinkHtml = 'Like what you see? Visit the ' +\n",
              "            '<a target=\"_blank\" href=https://colab.research.google.com/notebooks/data_table.ipynb>data table notebook</a>'\n",
              "            + ' to learn more about interactive tables.';\n",
              "          element.innerHTML = '';\n",
              "          dataTable['output_type'] = 'display_data';\n",
              "          await google.colab.output.renderOutput(dataTable, element);\n",
              "          const docLink = document.createElement('div');\n",
              "          docLink.innerHTML = docLinkHtml;\n",
              "          element.appendChild(docLink);\n",
              "        }\n",
              "      </script>\n",
              "    </div>\n",
              "  </div>\n",
              "  "
            ]
          },
          "metadata": {},
          "execution_count": 76
        }
      ],
      "source": [
        "df_na_total = null_values(data)\n",
        "df_na_total"
      ]
    },
    {
      "cell_type": "code",
      "execution_count": 81,
      "metadata": {
        "id": "HdKlNHXZEm6a",
        "colab": {
          "base_uri": "https://localhost:8080/",
          "height": 325
        },
        "outputId": "ee1885fa-b71b-4802-b9a7-aefe9358d27f"
      },
      "outputs": [
        {
          "output_type": "display_data",
          "data": {
            "text/plain": [
              "<Figure size 576x288 with 1 Axes>"
            ],
            "image/png": "[encoded data removed]"
          },
          "metadata": {}
        }
      ],
      "source": [
        "total_null = data.isnull().sum()\n",
        "plt.figure(figsize = (8,4))\n",
        "plt.hist(total_null, color='turquoise')\n",
        "plt.title(\"Distribution of missing values\")\n",
        "plt.xlabel(\"No. of missing values in a column\")\n",
        "plt.ylabel(\"Columns\")\n",
        "plt.show()"
      ]
    },
    {
      "cell_type": "code",
      "execution_count": 82,
      "metadata": {
        "id": "QGaZMFHOCKyz",
        "colab": {
          "base_uri": "https://localhost:8080/",
          "height": 927
        },
        "outputId": "c2cebb1e-6d4f-4cb0-b136-5ebb7c07653e"
      },
      "outputs": [
        {
          "output_type": "execute_result",
          "data": {
            "text/plain": [
              "     Missing_Records  Percentage (%)\n",
              "292             1429       91.193363\n",
              "293             1429       91.193363\n",
              "157             1429       91.193363\n",
              "158             1429       91.193363\n",
              "358             1341       85.577537\n",
              "85              1341       85.577537\n",
              "492             1341       85.577537\n",
              "220             1341       85.577537\n",
              "518             1018       64.964901\n",
              "246             1018       64.964901\n",
              "245             1018       64.964901\n",
              "516             1018       64.964901\n",
              "517             1018       64.964901\n",
              "110             1018       64.964901\n",
              "384             1018       64.964901\n",
              "382             1018       64.964901\n",
              "383             1018       64.964901\n",
              "109             1018       64.964901\n",
              "244             1018       64.964901\n",
              "111             1018       64.964901\n",
              "580              949       60.561583\n",
              "578              949       60.561583\n",
              "581              949       60.561583\n",
              "579              949       60.561583\n",
              "73               794       50.670070\n",
              "72               794       50.670070\n",
              "345              794       50.670070\n",
              "346              794       50.670070"
            ],
            "text/html": [
              "\n",
              "  <div id=\"df-5dd4c73c-4bb3-466e-9acc-0bd39733413b\">\n",
              "    <div class=\"colab-df-container\">\n",
              "      <div>\n",
              "<style scoped>\n",
              "    .dataframe tbody tr th:only-of-type {\n",
              "        vertical-align: middle;\n",
              "    }\n",
              "\n",
              "    .dataframe tbody tr th {\n",
              "        vertical-align: top;\n",
              "    }\n",
              "\n",
              "    .dataframe thead th {\n",
              "        text-align: right;\n",
              "    }\n",
              "</style>\n",
              "<table border=\"1\" class=\"dataframe\">\n",
              "  <thead>\n",
              "    <tr style=\"text-align: right;\">\n",
              "      <th></th>\n",
              "      <th>Missing_Records</th>\n",
              "      <th>Percentage (%)</th>\n",
              "    </tr>\n",
              "  </thead>\n",
              "  <tbody>\n",
              "    <tr>\n",
              "      <th>292</th>\n",
              "      <td>1429</td>\n",
              "      <td>91.193363</td>\n",
              "    </tr>\n",
              "    <tr>\n",
              "      <th>293</th>\n",
              "      <td>1429</td>\n",
              "      <td>91.193363</td>\n",
              "    </tr>\n",
              "    <tr>\n",
              "      <th>157</th>\n",
              "      <td>1429</td>\n",
              "      <td>91.193363</td>\n",
              "    </tr>\n",
              "    <tr>\n",
              "      <th>158</th>\n",
              "      <td>1429</td>\n",
              "      <td>91.193363</td>\n",
              "    </tr>\n",
              "    <tr>\n",
              "      <th>358</th>\n",
              "      <td>1341</td>\n",
              "      <td>85.577537</td>\n",
              "    </tr>\n",
              "    <tr>\n",
              "      <th>85</th>\n",
              "      <td>1341</td>\n",
              "      <td>85.577537</td>\n",
              "    </tr>\n",
              "    <tr>\n",
              "      <th>492</th>\n",
              "      <td>1341</td>\n",
              "      <td>85.577537</td>\n",
              "    </tr>\n",
              "    <tr>\n",
              "      <th>220</th>\n",
              "      <td>1341</td>\n",
              "      <td>85.577537</td>\n",
              "    </tr>\n",
              "    <tr>\n",
              "      <th>518</th>\n",
              "      <td>1018</td>\n",
              "      <td>64.964901</td>\n",
              "    </tr>\n",
              "    <tr>\n",
              "      <th>246</th>\n",
              "      <td>1018</td>\n",
              "      <td>64.964901</td>\n",
              "    </tr>\n",
              "    <tr>\n",
              "      <th>245</th>\n",
              "      <td>1018</td>\n",
              "      <td>64.964901</td>\n",
              "    </tr>\n",
              "    <tr>\n",
              "      <th>516</th>\n",
              "      <td>1018</td>\n",
              "      <td>64.964901</td>\n",
              "    </tr>\n",
              "    <tr>\n",
              "      <th>517</th>\n",
              "      <td>1018</td>\n",
              "      <td>64.964901</td>\n",
              "    </tr>\n",
              "    <tr>\n",
              "      <th>110</th>\n",
              "      <td>1018</td>\n",
              "      <td>64.964901</td>\n",
              "    </tr>\n",
              "    <tr>\n",
              "      <th>384</th>\n",
              "      <td>1018</td>\n",
              "      <td>64.964901</td>\n",
              "    </tr>\n",
              "    <tr>\n",
              "      <th>382</th>\n",
              "      <td>1018</td>\n",
              "      <td>64.964901</td>\n",
              "    </tr>\n",
              "    <tr>\n",
              "      <th>383</th>\n",
              "      <td>1018</td>\n",
              "      <td>64.964901</td>\n",
              "    </tr>\n",
              "    <tr>\n",
              "      <th>109</th>\n",
              "      <td>1018</td>\n",
              "      <td>64.964901</td>\n",
              "    </tr>\n",
              "    <tr>\n",
              "      <th>244</th>\n",
              "      <td>1018</td>\n",
              "      <td>64.964901</td>\n",
              "    </tr>\n",
              "    <tr>\n",
              "      <th>111</th>\n",
              "      <td>1018</td>\n",
              "      <td>64.964901</td>\n",
              "    </tr>\n",
              "    <tr>\n",
              "      <th>580</th>\n",
              "      <td>949</td>\n",
              "      <td>60.561583</td>\n",
              "    </tr>\n",
              "    <tr>\n",
              "      <th>578</th>\n",
              "      <td>949</td>\n",
              "      <td>60.561583</td>\n",
              "    </tr>\n",
              "    <tr>\n",
              "      <th>581</th>\n",
              "      <td>949</td>\n",
              "      <td>60.561583</td>\n",
              "    </tr>\n",
              "    <tr>\n",
              "      <th>579</th>\n",
              "      <td>949</td>\n",
              "      <td>60.561583</td>\n",
              "    </tr>\n",
              "    <tr>\n",
              "      <th>73</th>\n",
              "      <td>794</td>\n",
              "      <td>50.670070</td>\n",
              "    </tr>\n",
              "    <tr>\n",
              "      <th>72</th>\n",
              "      <td>794</td>\n",
              "      <td>50.670070</td>\n",
              "    </tr>\n",
              "    <tr>\n",
              "      <th>345</th>\n",
              "      <td>794</td>\n",
              "      <td>50.670070</td>\n",
              "    </tr>\n",
              "    <tr>\n",
              "      <th>346</th>\n",
              "      <td>794</td>\n",
              "      <td>50.670070</td>\n",
              "    </tr>\n",
              "  </tbody>\n",
              "</table>\n",
              "</div>\n",
              "      <button class=\"colab-df-convert\" onclick=\"convertToInteractive('df-5dd4c73c-4bb3-466e-9acc-0bd39733413b')\"\n",
              "              title=\"Convert this dataframe to an interactive table.\"\n",
              "              style=\"display:none;\">\n",
              "        \n",
              "  <svg xmlns=\"http://www.w3.org/2000/svg\" height=\"24px\"viewBox=\"0 0 24 24\"\n",
              "       width=\"24px\">\n",
              "    <path d=\"M0 0h24v24H0V0z\" fill=\"none\"/>\n",
              "    <path d=\"M18.56 5.44l.94 2.06.94-2.06 2.06-.94-2.06-.94-.94-2.06-.94 2.06-2.06.94zm-11 1L8.5 8.5l.94-2.06 2.06-.94-2.06-.94L8.5 2.5l-.94 2.06-2.06.94zm10 10l.94 2.06.94-2.06 2.06-.94-2.06-.94-.94-2.06-.94 2.06-2.06.94z\"/><path d=\"M17.41 7.96l-1.37-1.37c-.4-.4-.92-.59-1.43-.59-.52 0-1.04.2-1.43.59L10.3 9.45l-7.72 7.72c-.78.78-.78 2.05 0 2.83L4 21.41c.39.39.9.59 1.41.59.51 0 1.02-.2 1.41-.59l7.78-7.78 2.81-2.81c.8-.78.8-2.07 0-2.86zM5.41 20L4 18.59l7.72-7.72 1.47 1.35L5.41 20z\"/>\n",
              "  </svg>\n",
              "      </button>\n",
              "      \n",
              "  <style>\n",
              "    .colab-df-container {\n",
              "      display:flex;\n",
              "      flex-wrap:wrap;\n",
              "      gap: 12px;\n",
              "    }\n",
              "\n",
              "    .colab-df-convert {\n",
              "      background-color: #E8F0FE;\n",
              "      border: none;\n",
              "      border-radius: 50%;\n",
              "      cursor: pointer;\n",
              "      display: none;\n",
              "      fill: #1967D2;\n",
              "      height: 32px;\n",
              "      padding: 0 0 0 0;\n",
              "      width: 32px;\n",
              "    }\n",
              "\n",
              "    .colab-df-convert:hover {\n",
              "      background-color: #E2EBFA;\n",
              "      box-shadow: 0px 1px 2px rgba(60, 64, 67, 0.3), 0px 1px 3px 1px rgba(60, 64, 67, 0.15);\n",
              "      fill: #174EA6;\n",
              "    }\n",
              "\n",
              "    [theme=dark] .colab-df-convert {\n",
              "      background-color: #3B4455;\n",
              "      fill: #D2E3FC;\n",
              "    }\n",
              "\n",
              "    [theme=dark] .colab-df-convert:hover {\n",
              "      background-color: #434B5C;\n",
              "      box-shadow: 0px 1px 3px 1px rgba(0, 0, 0, 0.15);\n",
              "      filter: drop-shadow(0px 1px 2px rgba(0, 0, 0, 0.3));\n",
              "      fill: #FFFFFF;\n",
              "    }\n",
              "  </style>\n",
              "\n",
              "      <script>\n",
              "        const buttonEl =\n",
              "          document.querySelector('#df-5dd4c73c-4bb3-466e-9acc-0bd39733413b button.colab-df-convert');\n",
              "        buttonEl.style.display =\n",
              "          google.colab.kernel.accessAllowed ? 'block' : 'none';\n",
              "\n",
              "        async function convertToInteractive(key) {\n",
              "          const element = document.querySelector('#df-5dd4c73c-4bb3-466e-9acc-0bd39733413b');\n",
              "          const dataTable =\n",
              "            await google.colab.kernel.invokeFunction('convertToInteractive',\n",
              "                                                     [key], {});\n",
              "          if (!dataTable) return;\n",
              "\n",
              "          const docLinkHtml = 'Like what you see? Visit the ' +\n",
              "            '<a target=\"_blank\" href=https://colab.research.google.com/notebooks/data_table.ipynb>data table notebook</a>'\n",
              "            + ' to learn more about interactive tables.';\n",
              "          element.innerHTML = '';\n",
              "          dataTable['output_type'] = 'display_data';\n",
              "          await google.colab.output.renderOutput(dataTable, element);\n",
              "          const docLink = document.createElement('div');\n",
              "          docLink.innerHTML = docLinkHtml;\n",
              "          element.appendChild(docLink);\n",
              "        }\n",
              "      </script>\n",
              "    </div>\n",
              "  </div>\n",
              "  "
            ]
          },
          "metadata": {},
          "execution_count": 82
        }
      ],
      "source": [
        "df_na = df_na_total[df_na_total[\"Percentage (%)\"] > 50] # 결측치가 50% 이상인 column을 삭제한다. \n",
        "df_na"
      ]
    },
    {
      "cell_type": "code",
      "execution_count": null,
      "metadata": {
        "id": "bQvSX-7lGERK"
      },
      "outputs": [],
      "source": [
        "\n"
      ]
    },
    {
      "cell_type": "markdown",
      "metadata": {
        "id": "0SRcbWeEHOGk"
      },
      "source": [
        "## 결측치 채우기"
      ]
    },
    {
      "cell_type": "code",
      "execution_count": 83,
      "metadata": {
        "id": "b5ieEJhLHPry",
        "colab": {
          "base_uri": "https://localhost:8080/",
          "height": 835
        },
        "outputId": "5e297a84-ff6c-4c71-ea11-922da01df98a"
      },
      "outputs": [
        {
          "output_type": "execute_result",
          "data": {
            "text/plain": [
              "                     Time        0        1          2          3       4  \\\n",
              "0     2008-07-19 11:55:00  3030.93  2564.00  2187.7333  1411.1265  1.3602   \n",
              "1     2008-07-19 12:32:00  3095.78  2465.14  2230.4222  1463.6606  0.8294   \n",
              "2     2008-07-19 13:17:00  2932.61  2559.94  2186.4111  1698.0172  1.5102   \n",
              "3     2008-07-19 14:43:00  2988.72  2479.90  2199.0333   909.7926  1.3204   \n",
              "4     2008-07-19 15:22:00  3032.24  2502.87  2233.3667  1326.5200  1.5334   \n",
              "...                   ...      ...      ...        ...        ...     ...   \n",
              "1562  2008-10-16 15:13:00  2899.41  2464.36  2179.7333  3085.3781  1.4843   \n",
              "1563  2008-10-16 20:49:00  3052.31  2522.55  2198.5667  1124.6595  0.8763   \n",
              "1564  2008-10-17 05:26:00  2978.81  2379.78  2206.3000  1110.4967  0.8236   \n",
              "1565  2008-10-17 06:01:00  2894.92  2532.01  2177.0333  1183.7287  1.5726   \n",
              "1566  2008-10-17 06:07:00  2944.92  2450.76  2195.4444  2914.1792  1.5978   \n",
              "\n",
              "          5         6       7       8  ...       581     582     583     584  \\\n",
              "0     100.0   97.6133  0.1242  1.5005  ...  208.2045  0.5005  0.0118  0.0035   \n",
              "1     100.0  102.3433  0.1247  1.4966  ...  208.2045  0.5019  0.0223  0.0055   \n",
              "2     100.0   95.4878  0.1241  1.4436  ...   82.8602  0.4958  0.0157  0.0039   \n",
              "3     100.0  104.2367  0.1217  1.4882  ...   73.8432  0.4990  0.0103  0.0025   \n",
              "4     100.0  100.3967  0.1235  1.5031  ...   73.8432  0.4800  0.4766  0.1045   \n",
              "...     ...       ...     ...     ...  ...       ...     ...     ...     ...   \n",
              "1562  100.0   82.2467  0.1248  1.3424  ...  203.1720  0.4988  0.0143  0.0039   \n",
              "1563  100.0   98.4689  0.1205  1.4333  ...  203.1720  0.4975  0.0131  0.0036   \n",
              "1564  100.0   99.4122  0.1208  1.4333  ...   43.5231  0.4987  0.0153  0.0041   \n",
              "1565  100.0   98.7978  0.1213  1.4622  ...   93.4941  0.5004  0.0178  0.0038   \n",
              "1566  100.0   85.1011  0.1235  1.4622  ...  137.7844  0.4987  0.0181  0.0040   \n",
              "\n",
              "          585     586     587     588       589  Pass_Fail  \n",
              "0      2.3630  0.0096  0.0201  0.0060  208.2045         -1  \n",
              "1      4.4447  0.0096  0.0201  0.0060  208.2045         -1  \n",
              "2      3.1745  0.0584  0.0484  0.0148   82.8602          1  \n",
              "3      2.0544  0.0202  0.0149  0.0044   73.8432         -1  \n",
              "4     99.3032  0.0202  0.0149  0.0044   73.8432         -1  \n",
              "...       ...     ...     ...     ...       ...        ...  \n",
              "1562   2.8669  0.0068  0.0138  0.0047  203.1720         -1  \n",
              "1563   2.6238  0.0068  0.0138  0.0047  203.1720         -1  \n",
              "1564   3.0590  0.0197  0.0086  0.0025   43.5231         -1  \n",
              "1565   3.5662  0.0262  0.0245  0.0075   93.4941         -1  \n",
              "1566   3.6275  0.0117  0.0162  0.0045  137.7844         -1  \n",
              "\n",
              "[1567 rows x 592 columns]"
            ],
            "text/html": [
              "\n",
              "  <div id=\"df-c2639164-8a52-4d19-9462-fd26790ead0e\">\n",
              "    <div class=\"colab-df-container\">\n",
              "      <div>\n",
              "<style scoped>\n",
              "    .dataframe tbody tr th:only-of-type {\n",
              "        vertical-align: middle;\n",
              "    }\n",
              "\n",
              "    .dataframe tbody tr th {\n",
              "        vertical-align: top;\n",
              "    }\n",
              "\n",
              "    .dataframe thead th {\n",
              "        text-align: right;\n",
              "    }\n",
              "</style>\n",
              "<table border=\"1\" class=\"dataframe\">\n",
              "  <thead>\n",
              "    <tr style=\"text-align: right;\">\n",
              "      <th></th>\n",
              "      <th>Time</th>\n",
              "      <th>0</th>\n",
              "      <th>1</th>\n",
              "      <th>2</th>\n",
              "      <th>3</th>\n",
              "      <th>4</th>\n",
              "      <th>5</th>\n",
              "      <th>6</th>\n",
              "      <th>7</th>\n",
              "      <th>8</th>\n",
              "      <th>...</th>\n",
              "      <th>581</th>\n",
              "      <th>582</th>\n",
              "      <th>583</th>\n",
              "      <th>584</th>\n",
              "      <th>585</th>\n",
              "      <th>586</th>\n",
              "      <th>587</th>\n",
              "      <th>588</th>\n",
              "      <th>589</th>\n",
              "      <th>Pass_Fail</th>\n",
              "    </tr>\n",
              "  </thead>\n",
              "  <tbody>\n",
              "    <tr>\n",
              "      <th>0</th>\n",
              "      <td>2008-07-19 11:55:00</td>\n",
              "      <td>3030.93</td>\n",
              "      <td>2564.00</td>\n",
              "      <td>2187.7333</td>\n",
              "      <td>1411.1265</td>\n",
              "      <td>1.3602</td>\n",
              "      <td>100.0</td>\n",
              "      <td>97.6133</td>\n",
              "      <td>0.1242</td>\n",
              "      <td>1.5005</td>\n",
              "      <td>...</td>\n",
              "      <td>208.2045</td>\n",
              "      <td>0.5005</td>\n",
              "      <td>0.0118</td>\n",
              "      <td>0.0035</td>\n",
              "      <td>2.3630</td>\n",
              "      <td>0.0096</td>\n",
              "      <td>0.0201</td>\n",
              "      <td>0.0060</td>\n",
              "      <td>208.2045</td>\n",
              "      <td>-1</td>\n",
              "    </tr>\n",
              "    <tr>\n",
              "      <th>1</th>\n",
              "      <td>2008-07-19 12:32:00</td>\n",
              "      <td>3095.78</td>\n",
              "      <td>2465.14</td>\n",
              "      <td>2230.4222</td>\n",
              "      <td>1463.6606</td>\n",
              "      <td>0.8294</td>\n",
              "      <td>100.0</td>\n",
              "      <td>102.3433</td>\n",
              "      <td>0.1247</td>\n",
              "      <td>1.4966</td>\n",
              "      <td>...</td>\n",
              "      <td>208.2045</td>\n",
              "      <td>0.5019</td>\n",
              "      <td>0.0223</td>\n",
              "      <td>0.0055</td>\n",
              "      <td>4.4447</td>\n",
              "      <td>0.0096</td>\n",
              "      <td>0.0201</td>\n",
              "      <td>0.0060</td>\n",
              "      <td>208.2045</td>\n",
              "      <td>-1</td>\n",
              "    </tr>\n",
              "    <tr>\n",
              "      <th>2</th>\n",
              "      <td>2008-07-19 13:17:00</td>\n",
              "      <td>2932.61</td>\n",
              "      <td>2559.94</td>\n",
              "      <td>2186.4111</td>\n",
              "      <td>1698.0172</td>\n",
              "      <td>1.5102</td>\n",
              "      <td>100.0</td>\n",
              "      <td>95.4878</td>\n",
              "      <td>0.1241</td>\n",
              "      <td>1.4436</td>\n",
              "      <td>...</td>\n",
              "      <td>82.8602</td>\n",
              "      <td>0.4958</td>\n",
              "      <td>0.0157</td>\n",
              "      <td>0.0039</td>\n",
              "      <td>3.1745</td>\n",
              "      <td>0.0584</td>\n",
              "      <td>0.0484</td>\n",
              "      <td>0.0148</td>\n",
              "      <td>82.8602</td>\n",
              "      <td>1</td>\n",
              "    </tr>\n",
              "    <tr>\n",
              "      <th>3</th>\n",
              "      <td>2008-07-19 14:43:00</td>\n",
              "      <td>2988.72</td>\n",
              "      <td>2479.90</td>\n",
              "      <td>2199.0333</td>\n",
              "      <td>909.7926</td>\n",
              "      <td>1.3204</td>\n",
              "      <td>100.0</td>\n",
              "      <td>104.2367</td>\n",
              "      <td>0.1217</td>\n",
              "      <td>1.4882</td>\n",
              "      <td>...</td>\n",
              "      <td>73.8432</td>\n",
              "      <td>0.4990</td>\n",
              "      <td>0.0103</td>\n",
              "      <td>0.0025</td>\n",
              "      <td>2.0544</td>\n",
              "      <td>0.0202</td>\n",
              "      <td>0.0149</td>\n",
              "      <td>0.0044</td>\n",
              "      <td>73.8432</td>\n",
              "      <td>-1</td>\n",
              "    </tr>\n",
              "    <tr>\n",
              "      <th>4</th>\n",
              "      <td>2008-07-19 15:22:00</td>\n",
              "      <td>3032.24</td>\n",
              "      <td>2502.87</td>\n",
              "      <td>2233.3667</td>\n",
              "      <td>1326.5200</td>\n",
              "      <td>1.5334</td>\n",
              "      <td>100.0</td>\n",
              "      <td>100.3967</td>\n",
              "      <td>0.1235</td>\n",
              "      <td>1.5031</td>\n",
              "      <td>...</td>\n",
              "      <td>73.8432</td>\n",
              "      <td>0.4800</td>\n",
              "      <td>0.4766</td>\n",
              "      <td>0.1045</td>\n",
              "      <td>99.3032</td>\n",
              "      <td>0.0202</td>\n",
              "      <td>0.0149</td>\n",
              "      <td>0.0044</td>\n",
              "      <td>73.8432</td>\n",
              "      <td>-1</td>\n",
              "    </tr>\n",
              "    <tr>\n",
              "      <th>...</th>\n",
              "      <td>...</td>\n",
              "      <td>...</td>\n",
              "      <td>...</td>\n",
              "      <td>...</td>\n",
              "      <td>...</td>\n",
              "      <td>...</td>\n",
              "      <td>...</td>\n",
              "      <td>...</td>\n",
              "      <td>...</td>\n",
              "      <td>...</td>\n",
              "      <td>...</td>\n",
              "      <td>...</td>\n",
              "      <td>...</td>\n",
              "      <td>...</td>\n",
              "      <td>...</td>\n",
              "      <td>...</td>\n",
              "      <td>...</td>\n",
              "      <td>...</td>\n",
              "      <td>...</td>\n",
              "      <td>...</td>\n",
              "      <td>...</td>\n",
              "    </tr>\n",
              "    <tr>\n",
              "      <th>1562</th>\n",
              "      <td>2008-10-16 15:13:00</td>\n",
              "      <td>2899.41</td>\n",
              "      <td>2464.36</td>\n",
              "      <td>2179.7333</td>\n",
              "      <td>3085.3781</td>\n",
              "      <td>1.4843</td>\n",
              "      <td>100.0</td>\n",
              "      <td>82.2467</td>\n",
              "      <td>0.1248</td>\n",
              "      <td>1.3424</td>\n",
              "      <td>...</td>\n",
              "      <td>203.1720</td>\n",
              "      <td>0.4988</td>\n",
              "      <td>0.0143</td>\n",
              "      <td>0.0039</td>\n",
              "      <td>2.8669</td>\n",
              "      <td>0.0068</td>\n",
              "      <td>0.0138</td>\n",
              "      <td>0.0047</td>\n",
              "      <td>203.1720</td>\n",
              "      <td>-1</td>\n",
              "    </tr>\n",
              "    <tr>\n",
              "      <th>1563</th>\n",
              "      <td>2008-10-16 20:49:00</td>\n",
              "      <td>3052.31</td>\n",
              "      <td>2522.55</td>\n",
              "      <td>2198.5667</td>\n",
              "      <td>1124.6595</td>\n",
              "      <td>0.8763</td>\n",
              "      <td>100.0</td>\n",
              "      <td>98.4689</td>\n",
              "      <td>0.1205</td>\n",
              "      <td>1.4333</td>\n",
              "      <td>...</td>\n",
              "      <td>203.1720</td>\n",
              "      <td>0.4975</td>\n",
              "      <td>0.0131</td>\n",
              "      <td>0.0036</td>\n",
              "      <td>2.6238</td>\n",
              "      <td>0.0068</td>\n",
              "      <td>0.0138</td>\n",
              "      <td>0.0047</td>\n",
              "      <td>203.1720</td>\n",
              "      <td>-1</td>\n",
              "    </tr>\n",
              "    <tr>\n",
              "      <th>1564</th>\n",
              "      <td>2008-10-17 05:26:00</td>\n",
              "      <td>2978.81</td>\n",
              "      <td>2379.78</td>\n",
              "      <td>2206.3000</td>\n",
              "      <td>1110.4967</td>\n",
              "      <td>0.8236</td>\n",
              "      <td>100.0</td>\n",
              "      <td>99.4122</td>\n",
              "      <td>0.1208</td>\n",
              "      <td>1.4333</td>\n",
              "      <td>...</td>\n",
              "      <td>43.5231</td>\n",
              "      <td>0.4987</td>\n",
              "      <td>0.0153</td>\n",
              "      <td>0.0041</td>\n",
              "      <td>3.0590</td>\n",
              "      <td>0.0197</td>\n",
              "      <td>0.0086</td>\n",
              "      <td>0.0025</td>\n",
              "      <td>43.5231</td>\n",
              "      <td>-1</td>\n",
              "    </tr>\n",
              "    <tr>\n",
              "      <th>1565</th>\n",
              "      <td>2008-10-17 06:01:00</td>\n",
              "      <td>2894.92</td>\n",
              "      <td>2532.01</td>\n",
              "      <td>2177.0333</td>\n",
              "      <td>1183.7287</td>\n",
              "      <td>1.5726</td>\n",
              "      <td>100.0</td>\n",
              "      <td>98.7978</td>\n",
              "      <td>0.1213</td>\n",
              "      <td>1.4622</td>\n",
              "      <td>...</td>\n",
              "      <td>93.4941</td>\n",
              "      <td>0.5004</td>\n",
              "      <td>0.0178</td>\n",
              "      <td>0.0038</td>\n",
              "      <td>3.5662</td>\n",
              "      <td>0.0262</td>\n",
              "      <td>0.0245</td>\n",
              "      <td>0.0075</td>\n",
              "      <td>93.4941</td>\n",
              "      <td>-1</td>\n",
              "    </tr>\n",
              "    <tr>\n",
              "      <th>1566</th>\n",
              "      <td>2008-10-17 06:07:00</td>\n",
              "      <td>2944.92</td>\n",
              "      <td>2450.76</td>\n",
              "      <td>2195.4444</td>\n",
              "      <td>2914.1792</td>\n",
              "      <td>1.5978</td>\n",
              "      <td>100.0</td>\n",
              "      <td>85.1011</td>\n",
              "      <td>0.1235</td>\n",
              "      <td>1.4622</td>\n",
              "      <td>...</td>\n",
              "      <td>137.7844</td>\n",
              "      <td>0.4987</td>\n",
              "      <td>0.0181</td>\n",
              "      <td>0.0040</td>\n",
              "      <td>3.6275</td>\n",
              "      <td>0.0117</td>\n",
              "      <td>0.0162</td>\n",
              "      <td>0.0045</td>\n",
              "      <td>137.7844</td>\n",
              "      <td>-1</td>\n",
              "    </tr>\n",
              "  </tbody>\n",
              "</table>\n",
              "<p>1567 rows × 592 columns</p>\n",
              "</div>\n",
              "      <button class=\"colab-df-convert\" onclick=\"convertToInteractive('df-c2639164-8a52-4d19-9462-fd26790ead0e')\"\n",
              "              title=\"Convert this dataframe to an interactive table.\"\n",
              "              style=\"display:none;\">\n",
              "        \n",
              "  <svg xmlns=\"http://www.w3.org/2000/svg\" height=\"24px\"viewBox=\"0 0 24 24\"\n",
              "       width=\"24px\">\n",
              "    <path d=\"M0 0h24v24H0V0z\" fill=\"none\"/>\n",
              "    <path d=\"M18.56 5.44l.94 2.06.94-2.06 2.06-.94-2.06-.94-.94-2.06-.94 2.06-2.06.94zm-11 1L8.5 8.5l.94-2.06 2.06-.94-2.06-.94L8.5 2.5l-.94 2.06-2.06.94zm10 10l.94 2.06.94-2.06 2.06-.94-2.06-.94-.94-2.06-.94 2.06-2.06.94z\"/><path d=\"M17.41 7.96l-1.37-1.37c-.4-.4-.92-.59-1.43-.59-.52 0-1.04.2-1.43.59L10.3 9.45l-7.72 7.72c-.78.78-.78 2.05 0 2.83L4 21.41c.39.39.9.59 1.41.59.51 0 1.02-.2 1.41-.59l7.78-7.78 2.81-2.81c.8-.78.8-2.07 0-2.86zM5.41 20L4 18.59l7.72-7.72 1.47 1.35L5.41 20z\"/>\n",
              "  </svg>\n",
              "      </button>\n",
              "      \n",
              "  <style>\n",
              "    .colab-df-container {\n",
              "      display:flex;\n",
              "      flex-wrap:wrap;\n",
              "      gap: 12px;\n",
              "    }\n",
              "\n",
              "    .colab-df-convert {\n",
              "      background-color: #E8F0FE;\n",
              "      border: none;\n",
              "      border-radius: 50%;\n",
              "      cursor: pointer;\n",
              "      display: none;\n",
              "      fill: #1967D2;\n",
              "      height: 32px;\n",
              "      padding: 0 0 0 0;\n",
              "      width: 32px;\n",
              "    }\n",
              "\n",
              "    .colab-df-convert:hover {\n",
              "      background-color: #E2EBFA;\n",
              "      box-shadow: 0px 1px 2px rgba(60, 64, 67, 0.3), 0px 1px 3px 1px rgba(60, 64, 67, 0.15);\n",
              "      fill: #174EA6;\n",
              "    }\n",
              "\n",
              "    [theme=dark] .colab-df-convert {\n",
              "      background-color: #3B4455;\n",
              "      fill: #D2E3FC;\n",
              "    }\n",
              "\n",
              "    [theme=dark] .colab-df-convert:hover {\n",
              "      background-color: #434B5C;\n",
              "      box-shadow: 0px 1px 3px 1px rgba(0, 0, 0, 0.15);\n",
              "      filter: drop-shadow(0px 1px 2px rgba(0, 0, 0, 0.3));\n",
              "      fill: #FFFFFF;\n",
              "    }\n",
              "  </style>\n",
              "\n",
              "      <script>\n",
              "        const buttonEl =\n",
              "          document.querySelector('#df-c2639164-8a52-4d19-9462-fd26790ead0e button.colab-df-convert');\n",
              "        buttonEl.style.display =\n",
              "          google.colab.kernel.accessAllowed ? 'block' : 'none';\n",
              "\n",
              "        async function convertToInteractive(key) {\n",
              "          const element = document.querySelector('#df-c2639164-8a52-4d19-9462-fd26790ead0e');\n",
              "          const dataTable =\n",
              "            await google.colab.kernel.invokeFunction('convertToInteractive',\n",
              "                                                     [key], {});\n",
              "          if (!dataTable) return;\n",
              "\n",
              "          const docLinkHtml = 'Like what you see? Visit the ' +\n",
              "            '<a target=\"_blank\" href=https://colab.research.google.com/notebooks/data_table.ipynb>data table notebook</a>'\n",
              "            + ' to learn more about interactive tables.';\n",
              "          element.innerHTML = '';\n",
              "          dataTable['output_type'] = 'display_data';\n",
              "          await google.colab.output.renderOutput(dataTable, element);\n",
              "          const docLink = document.createElement('div');\n",
              "          docLink.innerHTML = docLinkHtml;\n",
              "          element.appendChild(docLink);\n",
              "        }\n",
              "      </script>\n",
              "    </div>\n",
              "  </div>\n",
              "  "
            ]
          },
          "metadata": {},
          "execution_count": 83
        }
      ],
      "source": [
        "#strategy 1: latest information available\n",
        "data.fillna(method='ffill', inplace=True)\n",
        "data.fillna(method='bfill', inplace=True)\n",
        "data"
      ]
    },
    {
      "cell_type": "code",
      "execution_count": 84,
      "metadata": {
        "id": "Tv3B7uq3HSsN",
        "colab": {
          "base_uri": "https://localhost:8080/",
          "height": 49
        },
        "outputId": "7255bd55-745d-4e82-a3d1-3cb6b18ec237"
      },
      "outputs": [
        {
          "output_type": "execute_result",
          "data": {
            "text/plain": [
              "Empty DataFrame\n",
              "Columns: [Missing_Records, Percentage (%)]\n",
              "Index: []"
            ],
            "text/html": [
              "\n",
              "  <div id=\"df-926ade5e-0218-4c72-98b1-0dd1417a33c5\">\n",
              "    <div class=\"colab-df-container\">\n",
              "      <div>\n",
              "<style scoped>\n",
              "    .dataframe tbody tr th:only-of-type {\n",
              "        vertical-align: middle;\n",
              "    }\n",
              "\n",
              "    .dataframe tbody tr th {\n",
              "        vertical-align: top;\n",
              "    }\n",
              "\n",
              "    .dataframe thead th {\n",
              "        text-align: right;\n",
              "    }\n",
              "</style>\n",
              "<table border=\"1\" class=\"dataframe\">\n",
              "  <thead>\n",
              "    <tr style=\"text-align: right;\">\n",
              "      <th></th>\n",
              "      <th>Missing_Records</th>\n",
              "      <th>Percentage (%)</th>\n",
              "    </tr>\n",
              "  </thead>\n",
              "  <tbody>\n",
              "  </tbody>\n",
              "</table>\n",
              "</div>\n",
              "      <button class=\"colab-df-convert\" onclick=\"convertToInteractive('df-926ade5e-0218-4c72-98b1-0dd1417a33c5')\"\n",
              "              title=\"Convert this dataframe to an interactive table.\"\n",
              "              style=\"display:none;\">\n",
              "        \n",
              "  <svg xmlns=\"http://www.w3.org/2000/svg\" height=\"24px\"viewBox=\"0 0 24 24\"\n",
              "       width=\"24px\">\n",
              "    <path d=\"M0 0h24v24H0V0z\" fill=\"none\"/>\n",
              "    <path d=\"M18.56 5.44l.94 2.06.94-2.06 2.06-.94-2.06-.94-.94-2.06-.94 2.06-2.06.94zm-11 1L8.5 8.5l.94-2.06 2.06-.94-2.06-.94L8.5 2.5l-.94 2.06-2.06.94zm10 10l.94 2.06.94-2.06 2.06-.94-2.06-.94-.94-2.06-.94 2.06-2.06.94z\"/><path d=\"M17.41 7.96l-1.37-1.37c-.4-.4-.92-.59-1.43-.59-.52 0-1.04.2-1.43.59L10.3 9.45l-7.72 7.72c-.78.78-.78 2.05 0 2.83L4 21.41c.39.39.9.59 1.41.59.51 0 1.02-.2 1.41-.59l7.78-7.78 2.81-2.81c.8-.78.8-2.07 0-2.86zM5.41 20L4 18.59l7.72-7.72 1.47 1.35L5.41 20z\"/>\n",
              "  </svg>\n",
              "      </button>\n",
              "      \n",
              "  <style>\n",
              "    .colab-df-container {\n",
              "      display:flex;\n",
              "      flex-wrap:wrap;\n",
              "      gap: 12px;\n",
              "    }\n",
              "\n",
              "    .colab-df-convert {\n",
              "      background-color: #E8F0FE;\n",
              "      border: none;\n",
              "      border-radius: 50%;\n",
              "      cursor: pointer;\n",
              "      display: none;\n",
              "      fill: #1967D2;\n",
              "      height: 32px;\n",
              "      padding: 0 0 0 0;\n",
              "      width: 32px;\n",
              "    }\n",
              "\n",
              "    .colab-df-convert:hover {\n",
              "      background-color: #E2EBFA;\n",
              "      box-shadow: 0px 1px 2px rgba(60, 64, 67, 0.3), 0px 1px 3px 1px rgba(60, 64, 67, 0.15);\n",
              "      fill: #174EA6;\n",
              "    }\n",
              "\n",
              "    [theme=dark] .colab-df-convert {\n",
              "      background-color: #3B4455;\n",
              "      fill: #D2E3FC;\n",
              "    }\n",
              "\n",
              "    [theme=dark] .colab-df-convert:hover {\n",
              "      background-color: #434B5C;\n",
              "      box-shadow: 0px 1px 3px 1px rgba(0, 0, 0, 0.15);\n",
              "      filter: drop-shadow(0px 1px 2px rgba(0, 0, 0, 0.3));\n",
              "      fill: #FFFFFF;\n",
              "    }\n",
              "  </style>\n",
              "\n",
              "      <script>\n",
              "        const buttonEl =\n",
              "          document.querySelector('#df-926ade5e-0218-4c72-98b1-0dd1417a33c5 button.colab-df-convert');\n",
              "        buttonEl.style.display =\n",
              "          google.colab.kernel.accessAllowed ? 'block' : 'none';\n",
              "\n",
              "        async function convertToInteractive(key) {\n",
              "          const element = document.querySelector('#df-926ade5e-0218-4c72-98b1-0dd1417a33c5');\n",
              "          const dataTable =\n",
              "            await google.colab.kernel.invokeFunction('convertToInteractive',\n",
              "                                                     [key], {});\n",
              "          if (!dataTable) return;\n",
              "\n",
              "          const docLinkHtml = 'Like what you see? Visit the ' +\n",
              "            '<a target=\"_blank\" href=https://colab.research.google.com/notebooks/data_table.ipynb>data table notebook</a>'\n",
              "            + ' to learn more about interactive tables.';\n",
              "          element.innerHTML = '';\n",
              "          dataTable['output_type'] = 'display_data';\n",
              "          await google.colab.output.renderOutput(dataTable, element);\n",
              "          const docLink = document.createElement('div');\n",
              "          docLink.innerHTML = docLinkHtml;\n",
              "          element.appendChild(docLink);\n",
              "        }\n",
              "      </script>\n",
              "    </div>\n",
              "  </div>\n",
              "  "
            ]
          },
          "metadata": {},
          "execution_count": 84
        }
      ],
      "source": [
        "null_values(data)# null 값이 있는 지 확인한다."
      ]
    },
    {
      "cell_type": "code",
      "execution_count": 85,
      "metadata": {
        "id": "2cUFLOzTHVvL",
        "colab": {
          "base_uri": "https://localhost:8080/"
        },
        "outputId": "9550e64f-d70d-4a51-bf80-cae50f0772b6"
      },
      "outputs": [
        {
          "output_type": "execute_result",
          "data": {
            "text/plain": [
              "(1567, 592)"
            ]
          },
          "metadata": {},
          "execution_count": 85
        }
      ],
      "source": [
        "data.shape"
      ]
    },
    {
      "cell_type": "code",
      "execution_count": 85,
      "metadata": {
        "id": "izc4faWVHYgX"
      },
      "outputs": [],
      "source": [
        ""
      ]
    },
    {
      "cell_type": "markdown",
      "metadata": {
        "id": "YhF_bcs0JBZc"
      },
      "source": [
        "## Unique values in columns"
      ]
    },
    {
      "cell_type": "code",
      "execution_count": 86,
      "metadata": {
        "id": "ZSm6tYWNJDT2",
        "colab": {
          "base_uri": "https://localhost:8080/"
        },
        "outputId": "786ee9ac-e8cf-49c9-f96f-0b9f4d6343bf"
      },
      "outputs": [
        {
          "output_type": "execute_result",
          "data": {
            "text/plain": [
              "1"
            ]
          },
          "metadata": {},
          "execution_count": 86
        }
      ],
      "source": [
        "data[\"5\"].nunique()\n"
      ]
    },
    {
      "cell_type": "code",
      "execution_count": 87,
      "metadata": {
        "id": "A31-WneqJEOi"
      },
      "outputs": [],
      "source": [
        "def unique_columns(df):\n",
        "    \"\"\"a function to show unique columns with column name\"\"\"\n",
        "    uni_col_list = []\n",
        "    for column in df.columns:\n",
        "        if df[column].nunique() == 1:\n",
        "            uni_col_list.append(column)\n",
        "    return uni_col_list"
      ]
    },
    {
      "cell_type": "code",
      "execution_count": 88,
      "metadata": {
        "id": "Ds2Xea7iJGUT",
        "colab": {
          "base_uri": "https://localhost:8080/"
        },
        "outputId": "ee7de7a9-ec55-49c5-f3f3-187c3857d038"
      },
      "outputs": [
        {
          "output_type": "execute_result",
          "data": {
            "text/plain": [
              "116"
            ]
          },
          "metadata": {},
          "execution_count": 88
        }
      ],
      "source": [
        "\n",
        "len(unique_columns(data))"
      ]
    },
    {
      "cell_type": "markdown",
      "metadata": {
        "id": "3CvoiW6SJJpq"
      },
      "source": [
        "##There are 116 columns that contain unique values. These columns must be removed"
      ]
    },
    {
      "cell_type": "code",
      "execution_count": 89,
      "metadata": {
        "id": "d3nHLDwuJKby",
        "colab": {
          "base_uri": "https://localhost:8080/"
        },
        "outputId": "395f4ff7-3bb1-4faa-930d-9a80c96f281b"
      },
      "outputs": [
        {
          "output_type": "execute_result",
          "data": {
            "text/plain": [
              "1"
            ]
          },
          "metadata": {},
          "execution_count": 89
        }
      ],
      "source": [
        "\n",
        "data[\"179\"].nunique()\n"
      ]
    },
    {
      "cell_type": "code",
      "execution_count": 90,
      "metadata": {
        "id": "hLRW2fVoJLY1",
        "colab": {
          "base_uri": "https://localhost:8080/"
        },
        "outputId": "01ceefc4-f5ca-46a3-846d-4d1eda1d2585"
      },
      "outputs": [
        {
          "output_type": "execute_result",
          "data": {
            "text/plain": [
              "(1567, 592)"
            ]
          },
          "metadata": {},
          "execution_count": 90
        }
      ],
      "source": [
        "data.shape\n"
      ]
    },
    {
      "cell_type": "code",
      "execution_count": 91,
      "metadata": {
        "id": "3zVXl-6hJM07",
        "colab": {
          "base_uri": "https://localhost:8080/"
        },
        "outputId": "01adf5fe-0834-4201-813c-b277d0d7c3bf"
      },
      "outputs": [
        {
          "output_type": "execute_result",
          "data": {
            "text/plain": [
              "(1567, 476)"
            ]
          },
          "metadata": {},
          "execution_count": 91
        }
      ],
      "source": [
        "\n",
        "data = data.drop(axis=1, columns=unique_columns(data))\n",
        "data.shape"
      ]
    },
    {
      "cell_type": "markdown",
      "metadata": {
        "id": "Uwp9YAIqJj3T"
      },
      "source": [
        "## Time 삭제하는 데에 대한 근거 필요"
      ]
    },
    {
      "cell_type": "code",
      "execution_count": 92,
      "metadata": {
        "id": "80bCER18JN4P",
        "colab": {
          "base_uri": "https://localhost:8080/"
        },
        "outputId": "dd4293c4-3256-43c1-c7ad-5556ad5c8b3f"
      },
      "outputs": [
        {
          "output_type": "execute_result",
          "data": {
            "text/plain": [
              "(1567, 475)"
            ]
          },
          "metadata": {},
          "execution_count": 92
        }
      ],
      "source": [
        "# We will not use the \"Time\" column in the following steps, so this column can be completely deleted.\n",
        "data.drop(columns=\"Time\", axis=1, inplace=True)\n",
        "data.shape"
      ]
    },
    {
      "cell_type": "code",
      "execution_count": 93,
      "metadata": {
        "id": "G_Kmk_sRJP_M",
        "colab": {
          "base_uri": "https://localhost:8080/"
        },
        "outputId": "bc835e97-3181-42f7-a36e-90f611a97383"
      },
      "outputs": [
        {
          "output_type": "stream",
          "name": "stdout",
          "text": [
            "<class 'pandas.core.frame.DataFrame'>\n",
            "RangeIndex: 1567 entries, 0 to 1566\n",
            "Columns: 475 entries, 0 to Pass_Fail\n",
            "dtypes: float64(474), int64(1)\n",
            "memory usage: 5.7 MB\n"
          ]
        }
      ],
      "source": [
        "data.info()\n"
      ]
    },
    {
      "cell_type": "code",
      "execution_count": 93,
      "metadata": {
        "id": "ARHLyf0_JSkm"
      },
      "outputs": [],
      "source": [
        ""
      ]
    },
    {
      "cell_type": "markdown",
      "metadata": {
        "id": "He5-RVIpJoY1"
      },
      "source": [
        "## EDA (Exploratory Data Analysis)¶\n"
      ]
    },
    {
      "cell_type": "code",
      "execution_count": 94,
      "metadata": {
        "id": "is6FQEorJqJT",
        "colab": {
          "base_uri": "https://localhost:8080/",
          "height": 397
        },
        "outputId": "7d6d067d-914d-4089-f591-7ee118345644"
      },
      "outputs": [
        {
          "output_type": "display_data",
          "data": {
            "text/plain": [
              "<Figure size 360x360 with 1 Axes>"
            ],
            "image/png": "[encoded data removed]"
          },
          "metadata": {}
        },
        {
          "output_type": "execute_result",
          "data": {
            "text/plain": [
              "-1    1463\n",
              " 1     104\n",
              "Name: Pass_Fail, dtype: int64"
            ]
          },
          "metadata": {},
          "execution_count": 94
        }
      ],
      "source": [
        "# pie chart\n",
        "# We have highly imbalanced class with only 6.6% failures and 93.4% pass\n",
        "\n",
        "plt.rcParams['figure.figsize'] = (5,5)\n",
        "labels = ['Pass', 'Fail']\n",
        "size = data['Pass_Fail'].value_counts()\n",
        "colors = ['blue', 'green']\n",
        "explode = [0, 0.1]\n",
        "\n",
        "plt.style.use('seaborn-deep')\n",
        "plt.pie(size, labels =labels, colors = colors, explode = explode, autopct = \"%.2f%%\", shadow = True)\n",
        "plt.axis('off')\n",
        "plt.title('Target: Pass or Fail', fontsize = 20)\n",
        "plt.legend()\n",
        "plt.show()\n",
        "data[\"Pass_Fail\"].value_counts()"
      ]
    },
    {
      "cell_type": "markdown",
      "metadata": {
        "id": "BA-sWcjQKFDG"
      },
      "source": [
        "### Class Imbalance 문제 해결하기"
      ]
    },
    {
      "cell_type": "code",
      "execution_count": 95,
      "metadata": {
        "id": "xuIzFUzHJsRY",
        "colab": {
          "base_uri": "https://localhost:8080/"
        },
        "outputId": "c8d52c86-d773-44b7-f1cc-66510b6274a4"
      },
      "outputs": [
        {
          "output_type": "execute_result",
          "data": {
            "text/plain": [
              "28          -0.107685\n",
              "316         -0.089071\n",
              "125         -0.083460\n",
              "26          -0.082052\n",
              "180         -0.078530\n",
              "               ...   \n",
              "348          0.129593\n",
              "510          0.131574\n",
              "103          0.149118\n",
              "59           0.155991\n",
              "Pass_Fail    1.000000\n",
              "Name: Pass_Fail, Length: 475, dtype: float64"
            ]
          },
          "metadata": {},
          "execution_count": 95
        }
      ],
      "source": [
        "data.corr()[\"Pass_Fail\"].sort_values()"
      ]
    },
    {
      "cell_type": "markdown",
      "metadata": {
        "id": "ntb2ZJaTOn3S"
      },
      "source": [
        "## 어떤 column 도 Pass_Fail과 correlation 없음"
      ]
    },
    {
      "cell_type": "markdown",
      "metadata": {
        "id": "lHTBAvVQK5-o"
      },
      "source": [
        "## highly collinear feature 해결하기"
      ]
    },
    {
      "cell_type": "code",
      "execution_count": 101,
      "metadata": {
        "id": "Zuebo3W5J-kX",
        "colab": {
          "base_uri": "https://localhost:8080/"
        },
        "outputId": "8a1d6ac3-3aa0-48e1-b5f0-30e8242a3ea1"
      },
      "outputs": [
        {
          "output_type": "stream",
          "name": "stderr",
          "text": [
            "/usr/local/lib/python3.7/dist-packages/ipykernel_launcher.py:1: FutureWarning: In a future version of pandas all arguments of DataFrame.drop except for the argument 'labels' will be keyword-only\n",
            "  \"\"\"Entry point for launching an IPython kernel.\n"
          ]
        }
      ],
      "source": [
        "feature=data.drop(\"Pass_Fail\",1)\n",
        "y=data[\"Pass_Fail\"]\n",
        "col=list(feature.columns)"
      ]
    },
    {
      "cell_type": "code",
      "execution_count": 102,
      "metadata": {
        "id": "6smkyxYwX9Dl"
      },
      "outputs": [],
      "source": [
        "from sklearn.preprocessing import MinMaxScaler\n",
        "scaler = MinMaxScaler()\n",
        "scaled_feature = scaler.fit_transform(feature)\n",
        "scaled_feature = pd.DataFrame(scaled_feature,columns=col)\n"
      ]
    },
    {
      "cell_type": "code",
      "execution_count": 105,
      "metadata": {
        "id": "zwiDoQP1X_wG",
        "colab": {
          "base_uri": "https://localhost:8080/",
          "height": 378
        },
        "outputId": "d22449a6-1f5f-4d5b-8780-2659e55a2638"
      },
      "outputs": [
        {
          "output_type": "execute_result",
          "data": {
            "text/plain": [
              "<matplotlib.axes._subplots.AxesSubplot at 0x7f6bd62f6750>"
            ]
          },
          "metadata": {},
          "execution_count": 105
        },
        {
          "output_type": "display_data",
          "data": {
            "text/plain": [
              "<Figure size 360x360 with 2 Axes>"
            ],
            "image/png": "[encoded data removed]"
          },
          "metadata": {}
        }
      ],
      "source": [
        "sns.heatmap(data,cmap='plasma')"
      ]
    },
    {
      "cell_type": "code",
      "execution_count": 104,
      "metadata": {
        "id": "BfLnOUwwZZId",
        "colab": {
          "base_uri": "https://localhost:8080/"
        },
        "outputId": "cccfcfa7-0c23-4bae-9479-0cea071eb85d"
      },
      "outputs": [
        {
          "output_type": "stream",
          "name": "stdout",
          "text": [
            "Cumulative Variance Explained [  5.56510205+0.00000000e+00j   9.36352071+0.00000000e+00j\n",
            "  12.93441884+0.00000000e+00j  16.00594522+0.00000000e+00j\n",
            "  18.61403624+0.00000000e+00j  20.9773758 +0.00000000e+00j\n",
            "  23.2352664 +0.00000000e+00j  25.33907537+0.00000000e+00j\n",
            "  27.39336673+0.00000000e+00j  29.38882865+0.00000000e+00j\n",
            "  31.2003421 +0.00000000e+00j  32.92231885+0.00000000e+00j\n",
            "  34.62667162+0.00000000e+00j  36.30055697+0.00000000e+00j\n",
            "  37.81159672+0.00000000e+00j  39.30953084+0.00000000e+00j\n",
            "  40.77271891+0.00000000e+00j  42.17395035+0.00000000e+00j\n",
            "  43.49959262+0.00000000e+00j  44.79010958+0.00000000e+00j\n",
            "  46.03098466+0.00000000e+00j  47.24982403+0.00000000e+00j\n",
            "  48.42981532+0.00000000e+00j  49.54634761+0.00000000e+00j\n",
            "  50.6387187 +0.00000000e+00j  51.70769935+0.00000000e+00j\n",
            "  52.73167139+0.00000000e+00j  53.72794667+0.00000000e+00j\n",
            "  54.70469416+0.00000000e+00j  55.67723866+0.00000000e+00j\n",
            "  56.59728868+0.00000000e+00j  57.49139761+0.00000000e+00j\n",
            "  58.37493266+0.00000000e+00j  59.23446692+0.00000000e+00j\n",
            "  60.07847751+0.00000000e+00j  60.88658618+0.00000000e+00j\n",
            "  61.68538706+0.00000000e+00j  62.46527418+0.00000000e+00j\n",
            "  63.22101753+0.00000000e+00j  63.9734608 +0.00000000e+00j\n",
            "  64.70317439+0.00000000e+00j  65.41710904+0.00000000e+00j\n",
            "  66.12257187+0.00000000e+00j  66.81004842+0.00000000e+00j\n",
            "  67.48526604+0.00000000e+00j  68.13472816+0.00000000e+00j\n",
            "  68.77778732+0.00000000e+00j  69.40572704+0.00000000e+00j\n",
            "  70.02908063+0.00000000e+00j  70.63239492+0.00000000e+00j\n",
            "  71.22596654+0.00000000e+00j  71.80291331+0.00000000e+00j\n",
            "  72.35361982+0.00000000e+00j  72.90021378+0.00000000e+00j\n",
            "  73.43944144+0.00000000e+00j  73.9756064 +0.00000000e+00j\n",
            "  74.49445124+0.00000000e+00j  74.98982287+0.00000000e+00j\n",
            "  75.47591787+0.00000000e+00j  75.95409403+0.00000000e+00j\n",
            "  76.4189522 +0.00000000e+00j  76.87670407+0.00000000e+00j\n",
            "  77.31745377+0.00000000e+00j  77.75159441+0.00000000e+00j\n",
            "  78.17956995+0.00000000e+00j  78.59974083+0.00000000e+00j\n",
            "  79.0053758 +0.00000000e+00j  79.40257239+0.00000000e+00j\n",
            "  79.79644103+0.00000000e+00j  80.18358941+0.00000000e+00j\n",
            "  80.55657073+0.00000000e+00j  80.91260953+0.00000000e+00j\n",
            "  81.26239175+0.00000000e+00j  81.60332696+0.00000000e+00j\n",
            "  81.94268319+0.00000000e+00j  82.27167415+0.00000000e+00j\n",
            "  82.59932461+0.00000000e+00j  82.92243082+0.00000000e+00j\n",
            "  83.23847344+0.00000000e+00j  83.55009217+0.00000000e+00j\n",
            "  83.85999548+0.00000000e+00j  84.16473785+0.00000000e+00j\n",
            "  84.46097205+0.00000000e+00j  84.75225325+0.00000000e+00j\n",
            "  85.04074721+0.00000000e+00j  85.32372443+0.00000000e+00j\n",
            "  85.60431053+0.00000000e+00j  85.87390017+0.00000000e+00j\n",
            "  86.13773913+0.00000000e+00j  86.39925567+0.00000000e+00j\n",
            "  86.64952052+0.00000000e+00j  86.89927569+0.00000000e+00j\n",
            "  87.14451957+0.00000000e+00j  87.38906693+0.00000000e+00j\n",
            "  87.62718187+0.00000000e+00j  87.85922809+0.00000000e+00j\n",
            "  88.08905698+0.00000000e+00j  88.31447956+0.00000000e+00j\n",
            "  88.53541681+0.00000000e+00j  88.75229853+0.00000000e+00j\n",
            "  88.96785796+0.00000000e+00j  89.17859536+0.00000000e+00j\n",
            "  89.38809736+0.00000000e+00j  89.59423438+0.00000000e+00j\n",
            "  89.79487172+0.00000000e+00j  89.99171436+0.00000000e+00j\n",
            "  90.18648644+0.00000000e+00j  90.37813585+0.00000000e+00j\n",
            "  90.56700461+0.00000000e+00j  90.75254597+0.00000000e+00j\n",
            "  90.93514578+0.00000000e+00j  91.11710353+0.00000000e+00j\n",
            "  91.29382608+0.00000000e+00j  91.46913946+0.00000000e+00j\n",
            "  91.6414948 +0.00000000e+00j  91.81133932+0.00000000e+00j\n",
            "  91.97838132+0.00000000e+00j  92.14343722+0.00000000e+00j\n",
            "  92.30684789+0.00000000e+00j  92.46858101+0.00000000e+00j\n",
            "  92.62450552+0.00000000e+00j  92.778589  +0.00000000e+00j\n",
            "  92.92968737+0.00000000e+00j  93.07969352+0.00000000e+00j\n",
            "  93.22663006+0.00000000e+00j  93.37197026+0.00000000e+00j\n",
            "  93.51508493+0.00000000e+00j  93.65640546+0.00000000e+00j\n",
            "  93.79632238+0.00000000e+00j  93.93211491+0.00000000e+00j\n",
            "  94.0662772 +0.00000000e+00j  94.19784064+0.00000000e+00j\n",
            "  94.32860292+0.00000000e+00j  94.45644204+0.00000000e+00j\n",
            "  94.5806741 +0.00000000e+00j  94.70075677+0.00000000e+00j\n",
            "  94.81953868+0.00000000e+00j  94.9362895 +0.00000000e+00j\n",
            "  95.05136019+0.00000000e+00j  95.16472746+0.00000000e+00j\n",
            "  95.27585929+0.00000000e+00j  95.38541686+0.00000000e+00j\n",
            "  95.49296472+0.00000000e+00j  95.59919528+0.00000000e+00j\n",
            "  95.70312142+0.00000000e+00j  95.80545216+0.00000000e+00j\n",
            "  95.90437082+0.00000000e+00j  95.99977998+0.00000000e+00j\n",
            "  96.09324647+0.00000000e+00j  96.18587785+0.00000000e+00j\n",
            "  96.27622972+0.00000000e+00j  96.3646734 +0.00000000e+00j\n",
            "  96.4517753 +0.00000000e+00j  96.53658302+0.00000000e+00j\n",
            "  96.61801569+0.00000000e+00j  96.69756268+0.00000000e+00j\n",
            "  96.77654427+0.00000000e+00j  96.85449125+0.00000000e+00j\n",
            "  96.92967735+0.00000000e+00j  97.00355988+0.00000000e+00j\n",
            "  97.07603892+0.00000000e+00j  97.14725235+0.00000000e+00j\n",
            "  97.21805368+0.00000000e+00j  97.28591002+0.00000000e+00j\n",
            "  97.3532597 +0.00000000e+00j  97.41829597+0.00000000e+00j\n",
            "  97.48149357+0.00000000e+00j  97.54360924+0.00000000e+00j\n",
            "  97.60449006+0.00000000e+00j  97.66439519+0.00000000e+00j\n",
            "  97.72321979+0.00000000e+00j  97.78033888+0.00000000e+00j\n",
            "  97.83687829+0.00000000e+00j  97.89175627+0.00000000e+00j\n",
            "  97.94430192+0.00000000e+00j  97.99626853+0.00000000e+00j\n",
            "  98.04643685+0.00000000e+00j  98.09550528+0.00000000e+00j\n",
            "  98.14318213+0.00000000e+00j  98.19009723+0.00000000e+00j\n",
            "  98.23564038+0.00000000e+00j  98.28004571+0.00000000e+00j\n",
            "  98.32296432+0.00000000e+00j  98.36582346+0.00000000e+00j\n",
            "  98.40771711+0.00000000e+00j  98.44898963+0.00000000e+00j\n",
            "  98.48954932+0.00000000e+00j  98.52830738+0.00000000e+00j\n",
            "  98.56609903+0.00000000e+00j  98.60224973+0.00000000e+00j\n",
            "  98.63837289+0.00000000e+00j  98.67306295+0.00000000e+00j\n",
            "  98.70752019+0.00000000e+00j  98.74136613+0.00000000e+00j\n",
            "  98.7744484 +0.00000000e+00j  98.8065877 +0.00000000e+00j\n",
            "  98.83828102+0.00000000e+00j  98.86967378+0.00000000e+00j\n",
            "  98.89995883+0.00000000e+00j  98.92942204+0.00000000e+00j\n",
            "  98.95760277+0.00000000e+00j  98.98502374+0.00000000e+00j\n",
            "  99.01080777+0.00000000e+00j  99.03603253+0.00000000e+00j\n",
            "  99.06100264+0.00000000e+00j  99.08571062+0.00000000e+00j\n",
            "  99.10926033+0.00000000e+00j  99.13241529+0.00000000e+00j\n",
            "  99.15513867+0.00000000e+00j  99.17726826+0.00000000e+00j\n",
            "  99.19838338+0.00000000e+00j  99.21921969+0.00000000e+00j\n",
            "  99.23961353+0.00000000e+00j  99.25941768+0.00000000e+00j\n",
            "  99.27881587+0.00000000e+00j  99.29733841+0.00000000e+00j\n",
            "  99.31560201+0.00000000e+00j  99.33305308+0.00000000e+00j\n",
            "  99.35024572+0.00000000e+00j  99.36704296+0.00000000e+00j\n",
            "  99.38353314+0.00000000e+00j  99.39992441+0.00000000e+00j\n",
            "  99.41590355+0.00000000e+00j  99.4315863 +0.00000000e+00j\n",
            "  99.44700491+0.00000000e+00j  99.46182148+0.00000000e+00j\n",
            "  99.47613138+0.00000000e+00j  99.4904167 +0.00000000e+00j\n",
            "  99.50437855+0.00000000e+00j  99.51793456+0.00000000e+00j\n",
            "  99.53107474+0.00000000e+00j  99.54408733+0.00000000e+00j\n",
            "  99.55700428+0.00000000e+00j  99.56968879+0.00000000e+00j\n",
            "  99.58206224+0.00000000e+00j  99.59418879+0.00000000e+00j\n",
            "  99.60617304+0.00000000e+00j  99.61780161+0.00000000e+00j\n",
            "  99.62899036+0.00000000e+00j  99.63998216+0.00000000e+00j\n",
            "  99.65087679+0.00000000e+00j  99.66139174+0.00000000e+00j\n",
            "  99.67172163+0.00000000e+00j  99.68183862+0.00000000e+00j\n",
            "  99.69156396+0.00000000e+00j  99.70089714+0.00000000e+00j\n",
            "  99.7100185 +0.00000000e+00j  99.71910965+0.00000000e+00j\n",
            "  99.72802987+0.00000000e+00j  99.73661317+0.00000000e+00j\n",
            "  99.74478515+0.00000000e+00j  99.75278265+0.00000000e+00j\n",
            "  99.76063973+0.00000000e+00j  99.76828298+0.00000000e+00j\n",
            "  99.77585768+0.00000000e+00j  99.78325545+0.00000000e+00j\n",
            "  99.79036764+0.00000000e+00j  99.79729922+0.00000000e+00j\n",
            "  99.80403222+0.00000000e+00j  99.81049928+0.00000000e+00j\n",
            "  99.81661709+0.00000000e+00j  99.82256758+0.00000000e+00j\n",
            "  99.82823075+0.00000000e+00j  99.83364127+0.00000000e+00j\n",
            "  99.83888636+0.00000000e+00j  99.84403416+0.00000000e+00j\n",
            "  99.84902743+0.00000000e+00j  99.85380023+0.00000000e+00j\n",
            "  99.85852924+0.00000000e+00j  99.86315332+0.00000000e+00j\n",
            "  99.8677337 +0.00000000e+00j  99.87216139+0.00000000e+00j\n",
            "  99.87647828+0.00000000e+00j  99.88049753+0.00000000e+00j\n",
            "  99.8844584 +0.00000000e+00j  99.88827884+0.00000000e+00j\n",
            "  99.89191078+0.00000000e+00j  99.89550547+0.00000000e+00j\n",
            "  99.89905412+0.00000000e+00j  99.90244735+0.00000000e+00j\n",
            "  99.90573644+0.00000000e+00j  99.90878744+0.00000000e+00j\n",
            "  99.91180125+0.00000000e+00j  99.91467661+0.00000000e+00j\n",
            "  99.91743872+0.00000000e+00j  99.9201702 +0.00000000e+00j\n",
            "  99.92283548+0.00000000e+00j  99.92543946+0.00000000e+00j\n",
            "  99.92799119+0.00000000e+00j  99.93049583+0.00000000e+00j\n",
            "  99.93299051+0.00000000e+00j  99.93535565+0.00000000e+00j\n",
            "  99.9376683 +0.00000000e+00j  99.93996834+0.00000000e+00j\n",
            "  99.94215684+0.00000000e+00j  99.94432258+0.00000000e+00j\n",
            "  99.9464299 +0.00000000e+00j  99.94851586+0.00000000e+00j\n",
            "  99.95053032+0.00000000e+00j  99.95250557+0.00000000e+00j\n",
            "  99.95439678+0.00000000e+00j  99.95628071+0.00000000e+00j\n",
            "  99.95807453+0.00000000e+00j  99.95981762+0.00000000e+00j\n",
            "  99.96146396+0.00000000e+00j  99.96301933+0.00000000e+00j\n",
            "  99.96453877+0.00000000e+00j  99.96596481+0.00000000e+00j\n",
            "  99.96734802+0.00000000e+00j  99.96860209+0.00000000e+00j\n",
            "  99.96984839+0.00000000e+00j  99.97102367+0.00000000e+00j\n",
            "  99.97211553+0.00000000e+00j  99.97318773+0.00000000e+00j\n",
            "  99.97422168+0.00000000e+00j  99.97522572+0.00000000e+00j\n",
            "  99.97616713+0.00000000e+00j  99.97708839+0.00000000e+00j\n",
            "  99.97797984+0.00000000e+00j  99.97882082+0.00000000e+00j\n",
            "  99.97965576+0.00000000e+00j  99.9804618 +0.00000000e+00j\n",
            "  99.98124483+0.00000000e+00j  99.98198643+0.00000000e+00j\n",
            "  99.98266995+0.00000000e+00j  99.98333606+0.00000000e+00j\n",
            "  99.98399886+0.00000000e+00j  99.98463574+0.00000000e+00j\n",
            "  99.98524865+0.00000000e+00j  99.98584458+0.00000000e+00j\n",
            "  99.98641634+0.00000000e+00j  99.98695369+0.00000000e+00j\n",
            "  99.98747316+0.00000000e+00j  99.98798812+0.00000000e+00j\n",
            "  99.98846497+0.00000000e+00j  99.98892808+0.00000000e+00j\n",
            "  99.98938477+0.00000000e+00j  99.98982939+0.00000000e+00j\n",
            "  99.9902503 +0.00000000e+00j  99.99065851+0.00000000e+00j\n",
            "  99.99104575+0.00000000e+00j  99.9914229 +0.00000000e+00j\n",
            "  99.99178316+0.00000000e+00j  99.99213365+0.00000000e+00j\n",
            "  99.99247984+0.00000000e+00j  99.99281142+0.00000000e+00j\n",
            "  99.99313677+0.00000000e+00j  99.99344248+0.00000000e+00j\n",
            "  99.99373781+0.00000000e+00j  99.99402847+0.00000000e+00j\n",
            "  99.99429601+0.00000000e+00j  99.99455563+0.00000000e+00j\n",
            "  99.99480087+0.00000000e+00j  99.99503191+0.00000000e+00j\n",
            "  99.99524281+0.00000000e+00j  99.99544814+0.00000000e+00j\n",
            "  99.99565027+0.00000000e+00j  99.99584239+0.00000000e+00j\n",
            "  99.99602952+0.00000000e+00j  99.99620843+0.00000000e+00j\n",
            "  99.99637745+0.00000000e+00j  99.99653689+0.00000000e+00j\n",
            "  99.99669409+0.00000000e+00j  99.99684465+0.00000000e+00j\n",
            "  99.99698837+0.00000000e+00j  99.99713107+0.00000000e+00j\n",
            "  99.99726806+0.00000000e+00j  99.99739611+0.00000000e+00j\n",
            "  99.99752076+0.00000000e+00j  99.99764005+0.00000000e+00j\n",
            "  99.99775263+0.00000000e+00j  99.99786379+0.00000000e+00j\n",
            "  99.99797185+0.00000000e+00j  99.99807658+0.00000000e+00j\n",
            "  99.99817787+0.00000000e+00j  99.99827543+0.00000000e+00j\n",
            "  99.99836549+0.00000000e+00j  99.998448  +0.00000000e+00j\n",
            "  99.99852706+0.00000000e+00j  99.99860412+0.00000000e+00j\n",
            "  99.99867989+0.00000000e+00j  99.99875433+0.00000000e+00j\n",
            "  99.99882258+0.00000000e+00j  99.99888932+0.00000000e+00j\n",
            "  99.99895383+0.00000000e+00j  99.99901634+0.00000000e+00j\n",
            "  99.9990741 +0.00000000e+00j  99.99913039+0.00000000e+00j\n",
            "  99.9991776 +0.00000000e+00j  99.99922416+0.00000000e+00j\n",
            "  99.9992682 +0.00000000e+00j  99.99931083+0.00000000e+00j\n",
            "  99.99935185+0.00000000e+00j  99.99939191+0.00000000e+00j\n",
            "  99.9994294 +0.00000000e+00j  99.99946605+0.00000000e+00j\n",
            "  99.99950232+0.00000000e+00j  99.99953627+0.00000000e+00j\n",
            "  99.99956911+0.00000000e+00j  99.99960073+0.00000000e+00j\n",
            "  99.99962979+0.00000000e+00j  99.99965784+0.00000000e+00j\n",
            "  99.99968276+0.00000000e+00j  99.99970713+0.00000000e+00j\n",
            "  99.99973055+0.00000000e+00j  99.99975073+0.00000000e+00j\n",
            "  99.99976844+0.00000000e+00j  99.99978507+0.00000000e+00j\n",
            "  99.99980008+0.00000000e+00j  99.99981363+0.00000000e+00j\n",
            "  99.9998269 +0.00000000e+00j  99.99983962+0.00000000e+00j\n",
            "  99.99985173+0.00000000e+00j  99.99986315+0.00000000e+00j\n",
            "  99.99987366+0.00000000e+00j  99.99988319+0.00000000e+00j\n",
            "  99.9998924 +0.00000000e+00j  99.99990088+0.00000000e+00j\n",
            "  99.99990883+0.00000000e+00j  99.99991677+0.00000000e+00j\n",
            "  99.99992405+0.00000000e+00j  99.99993108+0.00000000e+00j\n",
            "  99.999938  +0.00000000e+00j  99.99994412+0.00000000e+00j\n",
            "  99.99994987+0.00000000e+00j  99.99995535+0.00000000e+00j\n",
            "  99.99996053+0.00000000e+00j  99.99996514+0.00000000e+00j\n",
            "  99.99996939+0.00000000e+00j  99.99997356+0.00000000e+00j\n",
            "  99.9999771 +0.00000000e+00j  99.99998032+0.00000000e+00j\n",
            "  99.99998305+0.00000000e+00j  99.99998538+0.00000000e+00j\n",
            "  99.99998746+0.00000000e+00j  99.99998947+0.00000000e+00j\n",
            "  99.9999913 +0.00000000e+00j  99.99999296+0.00000000e+00j\n",
            "  99.99999438+0.00000000e+00j  99.9999955 +0.00000000e+00j\n",
            "  99.99999652+0.00000000e+00j  99.99999718+0.00000000e+00j\n",
            "  99.9999978 +0.00000000e+00j  99.99999829+0.00000000e+00j\n",
            "  99.99999863+0.00000000e+00j  99.99999886+0.00000000e+00j\n",
            "  99.99999906+0.00000000e+00j  99.99999925+0.00000000e+00j\n",
            "  99.99999943+0.00000000e+00j  99.99999955+0.00000000e+00j\n",
            "  99.99999967+0.00000000e+00j  99.99999975+0.00000000e+00j\n",
            "  99.99999981+0.00000000e+00j  99.99999985+0.00000000e+00j\n",
            "  99.99999989+0.00000000e+00j  99.99999993+0.00000000e+00j\n",
            "  99.99999996+0.00000000e+00j  99.99999998+0.00000000e+00j\n",
            "  99.99999999+0.00000000e+00j 100.        +0.00000000e+00j\n",
            " 100.        +0.00000000e+00j 100.        +0.00000000e+00j\n",
            " 100.        +0.00000000e+00j 100.        +0.00000000e+00j\n",
            " 100.        +0.00000000e+00j 100.        +0.00000000e+00j\n",
            " 100.        +9.35669805e-19j 100.        +0.00000000e+00j\n",
            " 100.        +7.76499696e-20j 100.        +0.00000000e+00j\n",
            " 100.        +0.00000000e+00j 100.        +1.32064247e-17j\n",
            " 100.        +0.00000000e+00j 100.        +0.00000000e+00j]\n"
          ]
        }
      ],
      "source": [
        ""
      ]
    },
    {
      "cell_type": "code",
      "execution_count": null,
      "metadata": {
        "id": "_-2hA4jtaxMM"
      },
      "outputs": [],
      "source": [
        "\n"
      ]
    }
  ],
  "metadata": {
    "colab": {
      "collapsed_sections": [],
      "name": "Secom시각화.ipynb",
      "provenance": [],
      "authorship_tag": "ABX9TyOApRngTFgIx4AJIa8AjtmU",
      "include_colab_link": true
    },
    "kernelspec": {
      "display_name": "Python 3",
      "name": "python3"
    },
    "language_info": {
      "name": "python"
    }
  },
  "nbformat": 4,
  "nbformat_minor": 0
}